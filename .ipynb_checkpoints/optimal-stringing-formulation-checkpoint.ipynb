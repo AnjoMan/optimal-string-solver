{
 "cells": [
  {
   "cell_type": "markdown",
   "metadata": {},
   "source": [
    "# Optimal String Configuration\n",
    "\n",
    "## Summary\n",
    "\n",
    "The goal of the optimal string configuration is to produce an ideal stringing configuration for a string-inverter architecture of solar array, taking into account constraints on string length and number of strings per MPPT.\n",
    "\n",
    "## Problem Statement\n",
    "\n",
    "The stringing problem can be formulated mathematically as a mixed-integer linear programming problem using the following model:\n",
    "\n",
    "### Sets\n",
    "\n",
    " $F$ = set of potential string lengths  \n",
    " $M$ = number of strings per mppt\n",
    " \n",
    "\n",
    "### Parameters\n",
    "\n",
    " $f_i$ = number of panels in string length $i$, $\\forall i \\in \\F$  \n",
    " $m_j$ = number of strings $j$ per MPPT, $\\forall j \\in \\M$  \n",
    " $P_{max}$ = number of panels available  \n",
    " $p_r$ = maximum number of panels by which the total panel count can be relaxed  \n",
    " \n",
    " \n",
    "### Variables\n",
    " $x_i$ = number of strings $i$ to deploy $\\forall i \\in F$  \n",
    " $g_ij$ = number of mppt groupings $j$ to deploy $\\forall j \\in M, \\forall i in F$\n",
    " \n",
    "\n",
    "### Objective\n",
    "\n",
    "Minimize the total number of strings deployed  \n",
    " $\\min \\sum_{i \\in F} x_i$\n",
    "\n",
    "### Constraints\n",
    "\n",
    "Limit the number of panels to be below $P_{max}$  \n",
    " $P_{max} > \\sum_{i \\in F} x_i f_i$\n",
    "\n",
    "Make sure we don't reduce the panel count by more than $p_r$  \n",
    " $P_{max} - p_r < \\sum_{ i \\in F} x_i f_i$\n",
    " \n",
    "Number of strings is a positive integer\n",
    " $f_i \\geq 0, f_i \\in \\{0,1\\}^{n_y}  \\forall i \\in F$\n",
    "\n",
    "Number of MPPT groupings is a positive integer\n",
    " $g_{i,j} \\geq 0, g_{i,j} \\in \\{0,1\\}^{n_y}  \\forall j \\in M, \\forall i \\in F$\n",
    "\n",
    "Link $x_i$ and $g_i$ via linear equations  \n",
    " $x_i = \\sum_{j \\in M} m_j g_ij, \\forall i \\in F$  \n",
    " \n",
    " \n",
    "### Example\n",
    "\n",
    "Suppose that\n",
    "* the valid string lengths are determined to be 17 or 18 panels per string, based on the acceptable minimum and maximum voltage tolerances for each string, such that $F = [f_{17}, f_{18}] = [17,18]$.\n",
    "* the valid number of strings per mppt is 3 or 2, such that $M = [m_2,m_3] = [2,3]$.\n",
    "* the layout accomodates a maximum of $P_{max} = 1030$ panels\n",
    "* we can tolerate a relaxation of up to $p_r = 5$ panels\n",
    "\n",
    "\n",
    "\n",
    "The goal of our minimization problem is to find the optimal string configuration to minimize stringing.\n",
    "\n",
    "The total number of panels will be $P = f_{17} x_{17} + f_{18} x_{18} = 17 x_{17} + 18 x_{18}$  The objective function is $\\min x_{17}+x_{18}$ - in other words, we want to find the lowest numbers of $x_{17}$ and $x_{18}$ that satisfy our set of constraints.\n",
    "\n",
    "The constraints are as follows:\n",
    "* $P < 1030$, or, the total number of panels can't be higher than $P_{max}$, which is what the layout accomodates.\n",
    "* $P > P_{max} - p_r = 1025$, or, we can't remove more than 5 panels to achieve our goal\n",
    "* limit the possible values for $x_{17}$, $x_{18}$ such that strings can be divided into groups of 2 or 3h\n",
    "    * $x_{18} = m_2 g_{2,18} + m_3 g_{3,18} = 2 g_{2,18} + 3 g_{3,18}$ where g_2 and g_3 are integers --- in other words, $x_{18}$ must be divisible by a combination of groupings of 2 and/or 3.\n",
    "    * $x_{17} = 2 g_{2,17} + 3 g_{3,17}$\n",
    "    \n",
    "When we run this MILP through a solver, it produces the following result:\n",
    "* $x_{17} = 14$, $x_{18} = 44$\n",
    "* $g_{2,17} = 1, g_{3,17} = 4, g_{2,18} = 4, g_{3,18} = 22$\n",
    "\n",
    "\n",
    "\n",
    "\n"
   ]
  },
  {
   "cell_type": "markdown",
   "metadata": {
    "collapsed": true
   },
   "source": [
    "### Modifications\n",
    "\n",
    "Stringing design is a balancing of several complex "
   ]
  },
  {
   "cell_type": "code",
   "execution_count": null,
   "metadata": {
    "collapsed": true
   },
   "outputs": [],
   "source": []
  }
 ],
 "metadata": {
  "kernelspec": {
   "display_name": "Python 3",
   "language": "python",
   "name": "python3"
  },
  "language_info": {
   "codemirror_mode": {
    "name": "ipython",
    "version": 3
   },
   "file_extension": ".py",
   "mimetype": "text/x-python",
   "name": "python",
   "nbconvert_exporter": "python",
   "pygments_lexer": "ipython3",
   "version": "3.5.2"
  }
 },
 "nbformat": 4,
 "nbformat_minor": 1
}
