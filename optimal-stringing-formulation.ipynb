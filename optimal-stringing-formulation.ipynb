{
 "cells": [
  {
   "cell_type": "markdown",
   "metadata": {},
   "source": [
    "# Optimal String Configuration\n",
    "\n",
    "## Summary\n",
    "\n",
    "The goal of the optimal string configuration is to produce an ideal stringing configuration for a string-inverter architecture of solar array, taking into account constraints on string length and number of strings per MPPT.\n",
    "\n",
    "## Problem Statement\n",
    "\n",
    "The stringing problem can be formulated mathematically as a mixed-integer linear programming problem using the following model:\n",
    "\n",
    "### Sets\n",
    "\n",
    " $F$ = set of potential string lengths  \n",
    " $M$ = number of strings per mppt\n",
    " \n",
    "\n",
    "### Parameters\n",
    "\n",
    " $f_i$ = number of panels in string length $i$, $\\forall i \\in F$  \n",
    " $m_j$ = number of strings $j$ per MPPT, $\\forall j \\in M$  \n",
    " $P_{max}$ = number of panels available  \n",
    " $p_r$ = maximum number of panels by which the total panel count can be relaxed  \n",
    " \n",
    " \n",
    "### Variables\n",
    " $x_i$ = number of strings $i$ to deploy $\\forall i \\in F$  \n",
    " $g_ij$ = number of mppt groupings $j$ to deploy $\\forall j \\in M, \\forall i \\in F$\n",
    " \n",
    "\n",
    "### Objective\n",
    "\n",
    "Minimize the total number of strings deployed  \n",
    " $\\min \\sum_{i \\in F} x_i$\n",
    "\n",
    "### Constraints\n",
    "\n",
    "Limit the number of panels to be below $P_{max}$  \n",
    " $P_{max} > \\sum_{i \\in F} x_i f_i$\n",
    "\n",
    "Make sure we don't reduce the panel count by more than $p_r$  \n",
    " $P_{max} - p_r < \\sum_{ i \\in F} x_i f_i$\n",
    " \n",
    "Number of strings is a positive integer\n",
    " $f_i \\geq 0, f_i \\in \\{0,1\\}^{n_y}  \\forall i \\in F$\n",
    "\n",
    "Number of MPPT groupings is a positive integer\n",
    " $g_{i,j} \\geq 0, g_{i,j} \\in \\{0,1\\}^{n_y}  \\forall j \\in M, \\forall i \\in F$\n",
    "\n",
    "Link $x_i$ and $g_i$ via linear equations  \n",
    " $x_i = \\sum_{j \\in M} m_j g_{i,j}, \\forall i \\in F$  \n",
    " \n",
    " \n",
    "### Example\n",
    "\n",
    "Suppose that\n",
    "* the valid string lengths are determined to be 17 or 18 panels per string, based on the acceptable minimum and maximum voltage tolerances for each string, such that $F = [f_{17}, f_{18}] = [17,18]$.\n",
    "* the valid number of strings per mppt is 3 or 2, such that $M = [m_2,m_3] = [2,3]$.\n",
    "* the layout accomodates a maximum of $P_{max} = 1030$ panels\n",
    "* we can tolerate a relaxation of up to $p_r = 5$ panels\n",
    "\n",
    "\n",
    "\n",
    "The goal of our minimization problem is to find the optimal string configuration to minimize stringing.\n",
    "\n",
    "The total number of panels will be $P = f_{17} x_{17} + f_{18} x_{18} = 17 x_{17} + 18 x_{18}$  The objective function is $\\min x_{17}+x_{18}$ - in other words, we want to find the lowest numbers of $x_{17}$ and $x_{18}$ that satisfy our set of constraints.\n",
    "\n",
    "The constraints are as follows:\n",
    "* $P < 1030$, or, the total number of panels can't be higher than $P_{max}$, which is what the layout accomodates.\n",
    "* $P > P_{max} - p_r = 1025$, or, we can't remove more than 5 panels to achieve our goal\n",
    "* limit the possible values for $x_{17}$, $x_{18}$ such that strings can be divided into groups of 2 or 3h\n",
    "    * $x_{18} = m_2 g_{2,18} + m_3 g_{3,18} = 2 g_{2,18} + 3 g_{3,18}$ where g_2 and g_3 are integers --- in other words, $x_{18}$ must be divisible by a combination of groupings of 2 and/or 3.\n",
    "    * $x_{17} = 2 g_{2,17} + 3 g_{3,17}$\n",
    "    \n",
    "When we run this MILP through a solver, it produces the following result:\n",
    "* $x_{17} = 14$, $x_{18} = 44$\n",
    "* $g_{2,17} = 1, g_{3,17} = 4, g_{2,18} = 4, g_{3,18} = 22$\n",
    "\n",
    "\n",
    "\n",
    "\n"
   ]
  },
  {
   "cell_type": "markdown",
   "metadata": {
    "collapsed": true
   },
   "source": [
    "## Implementation"
   ]
  },
  {
   "cell_type": "markdown",
   "metadata": {},
   "source": [
    "With python and puyomo, the implementation of this algorithm as a solver is extremely straightforward. First we import pyomo and instantiate a model:"
   ]
  },
  {
   "cell_type": "code",
   "execution_count": 7,
   "metadata": {
    "collapsed": false
   },
   "outputs": [
    {
     "ename": "ImportError",
     "evalue": "No module named 'pyomo'",
     "output_type": "error",
     "traceback": [
      "\u001b[0;31m---------------------------------------------------------------------------\u001b[0m",
      "\u001b[0;31mImportError\u001b[0m                               Traceback (most recent call last)",
      "\u001b[0;32m<ipython-input-7-5334c5325248>\u001b[0m in \u001b[0;36m<module>\u001b[0;34m()\u001b[0m\n\u001b[0;32m----> 1\u001b[0;31m \u001b[1;32mfrom\u001b[0m \u001b[0mpyomo\u001b[0m\u001b[1;33m.\u001b[0m\u001b[0menviron\u001b[0m \u001b[1;32mimport\u001b[0m \u001b[1;33m*\u001b[0m\u001b[1;33m\u001b[0m\u001b[0m\n\u001b[0m\u001b[1;32m      2\u001b[0m \u001b[1;33m\u001b[0m\u001b[0m\n\u001b[1;32m      3\u001b[0m \u001b[0mmodel\u001b[0m \u001b[1;33m=\u001b[0m \u001b[0mAbstractModel\u001b[0m\u001b[1;33m(\u001b[0m\u001b[1;33m)\u001b[0m\u001b[1;33m\u001b[0m\u001b[0m\n",
      "\u001b[0;31mImportError\u001b[0m: No module named 'pyomo'"
     ]
    }
   ],
   "source": [
    "from pyomo.environ import *\n",
    "\n",
    "model = AbstractModel()"
   ]
  },
  {
   "cell_type": "markdown",
   "metadata": {},
   "source": [
    "We define our two sets, $F$ and $M$, which represent the main parameters associated with each variable."
   ]
  },
  {
   "cell_type": "code",
   "execution_count": 2,
   "metadata": {
    "collapsed": false
   },
   "outputs": [
    {
     "ename": "NameError",
     "evalue": "name 'Set' is not defined",
     "output_type": "error",
     "traceback": [
      "\u001b[0;31m---------------------------------------------------------------------------\u001b[0m",
      "\u001b[0;31mNameError\u001b[0m                                 Traceback (most recent call last)",
      "\u001b[0;32m<ipython-input-2-4e4677ddbb0e>\u001b[0m in \u001b[0;36m<module>\u001b[0;34m()\u001b[0m\n\u001b[1;32m      1\u001b[0m \u001b[1;33m\u001b[0m\u001b[0m\n\u001b[1;32m      2\u001b[0m \u001b[1;31m# set of potential string lengths\u001b[0m\u001b[1;33m\u001b[0m\u001b[1;33m\u001b[0m\u001b[0m\n\u001b[0;32m----> 3\u001b[0;31m \u001b[0mmodel\u001b[0m\u001b[1;33m.\u001b[0m\u001b[0mF\u001b[0m \u001b[1;33m=\u001b[0m \u001b[0mSet\u001b[0m\u001b[1;33m(\u001b[0m\u001b[1;33m)\u001b[0m\u001b[1;33m\u001b[0m\u001b[0m\n\u001b[0m\u001b[1;32m      4\u001b[0m \u001b[1;31m# potential strings per MPPT\u001b[0m\u001b[1;33m\u001b[0m\u001b[1;33m\u001b[0m\u001b[0m\n\u001b[1;32m      5\u001b[0m \u001b[0mmodel\u001b[0m\u001b[1;33m.\u001b[0m\u001b[0mM\u001b[0m \u001b[1;33m=\u001b[0m \u001b[0mSet\u001b[0m\u001b[1;33m(\u001b[0m\u001b[1;33m)\u001b[0m\u001b[1;33m\u001b[0m\u001b[0m\n",
      "\u001b[0;31mNameError\u001b[0m: name 'Set' is not defined"
     ]
    }
   ],
   "source": [
    "\n",
    "# set of potential string lengths\n",
    "model.F = Set()\n",
    "# potential strings per MPPT\n",
    "model.M = Set()\n",
    "\n"
   ]
  },
  {
   "cell_type": "markdown",
   "metadata": {},
   "source": [
    "We then define the parameter values as follows:"
   ]
  },
  {
   "cell_type": "code",
   "execution_count": null,
   "metadata": {
    "collapsed": true
   },
   "outputs": [],
   "source": [
    "\n",
    "#number of panels per string length\n",
    "model.f = Param(model.F, within=NonNegativeIntegers)\n",
    "\n",
    "#number of strings per mppt grouping\n",
    "model.m = Param(model.M, within=NonNegativeIntegers)\n",
    "\n",
    "# max number of panels\n",
    "model.Pmax = Param(within=NonNegativeIntegers)\n",
    "# max number of panels we can remove\n",
    "model.p_r = Param(within=NonNegativeIntegers)"
   ]
  },
  {
   "cell_type": "markdown",
   "metadata": {},
   "source": [
    "The above lines of code will assign values to $f$, $m$, $P_{max}$ and $p_r$ based on the parameters defined in the model data file.\n",
    "\n",
    "We then define our variables:"
   ]
  },
  {
   "cell_type": "code",
   "execution_count": null,
   "metadata": {
    "collapsed": true
   },
   "outputs": [],
   "source": [
    "# variables x and g\n",
    "model.x = Var(model.F, within=NonNegativeIntegers)\n",
    "model.g = Var(model.F, model.M, within=NonNegativeIntegers)"
   ]
  },
  {
   "cell_type": "markdown",
   "metadata": {},
   "source": [
    "Our objective function is as follows:"
   ]
  },
  {
   "cell_type": "code",
   "execution_count": null,
   "metadata": {
    "collapsed": true
   },
   "outputs": [],
   "source": [
    "# define the objective function\n",
    "def cost_rule(model):\n",
    "    return sum(model.x[i] for i in model.F)\n",
    "model.cost = Objective(rule=cost_rule)"
   ]
  },
  {
   "cell_type": "markdown",
   "metadata": {},
   "source": [
    "Constraints:\n"
   ]
  },
  {
   "cell_type": "code",
   "execution_count": null,
   "metadata": {
    "collapsed": true
   },
   "outputs": [],
   "source": [
    "# define Pmax Constraint\n",
    "def panel_limit(model):\n",
    "    return model.Pmax >= sum(model.f[i]*model.x[i] for i in model.F)\n",
    "model.max_panel_count = Constraint(model.F, rule=panel_limit)\n",
    "\n",
    "# define p_r relaxation constraint\n",
    "def panel_relaxation(model):\n",
    "    return model.Pmax-model.p_r <= sum(model.f[i]*model.x[i] for i in model.F)\n",
    "model.max_panel_relaxation = Constraint(model.F, rule=panel_relaxation)\n",
    "\n",
    "# link g_ij and x_i via M to get MPPT sizing\n",
    "def mppt_string_count(model, i):\n",
    "    return model.x[i] == sum(model.m[j]*model.g[i,j] for j in model.M)\n",
    "model.mppt_grouping = Constraint(model.F, rule=mppt_string_count)"
   ]
  },
  {
   "cell_type": "code",
   "execution_count": 5,
   "metadata": {
    "collapsed": false
   },
   "outputs": [
    {
     "name": "stderr",
     "output_type": "stream",
     "text": [
      "ERROR:root:Line magic function `%cat` not found.\n"
     ]
    }
   ],
   "source": [
    "%cat stringing_ex.py"
   ]
  },
  {
   "cell_type": "raw",
   "metadata": {},
   "source": []
  }
 ],
 "metadata": {
  "kernelspec": {
   "display_name": "Python 3",
   "language": "python",
   "name": "python3"
  },
  "language_info": {
   "codemirror_mode": {
    "name": "ipython",
    "version": 3
   },
   "file_extension": ".py",
   "mimetype": "text/x-python",
   "name": "python",
   "nbconvert_exporter": "python",
   "pygments_lexer": "ipython3",
   "version": "3.5.2"
  }
 },
 "nbformat": 4,
 "nbformat_minor": 1
}
